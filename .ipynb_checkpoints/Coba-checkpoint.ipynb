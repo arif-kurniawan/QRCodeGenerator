{
 "cells": [
  {
   "cell_type": "code",
   "execution_count": 8,
   "id": "2d0faae9",
   "metadata": {},
   "outputs": [],
   "source": [
    "import qrcode\n",
    "\n",
    "qr = qrcode.QRCode(\n",
    "    version=12,\n",
    "    error_correction=qrcode.constants.ERROR_CORRECT_H,\n",
    "    box_size=2,\n",
    "    border=8\n",
    ")\n",
    "qr.add_data('NAMA : MAHONI\\nNAMA LATIN : MELIACEAE\\nMANFAAT : Mengobati malaria,  Menstabilkan kadar gula darah, Memperbaiki sirkulasi darah')\n",
    "qr.make()\n",
    "img = qr.make_image(fill_color=\"red\", back_color=\"#23dda0\")\n",
    "img.save('result/qrcode_test.png')"
   ]
  },
  {
   "cell_type": "code",
   "execution_count": 3,
   "id": "11cc8674",
   "metadata": {},
   "outputs": [],
   "source": [
    "str=\"Arif\\nKurniawan\""
   ]
  },
  {
   "cell_type": "code",
   "execution_count": 6,
   "id": "3d410d15",
   "metadata": {},
   "outputs": [
    {
     "name": "stdout",
     "output_type": "stream",
     "text": [
      "Arif\n",
      "Kurniawan\n"
     ]
    }
   ],
   "source": [
    "a=print(str)"
   ]
  },
  {
   "cell_type": "code",
   "execution_count": null,
   "id": "333900d4",
   "metadata": {},
   "outputs": [],
   "source": []
  }
 ],
 "metadata": {
  "kernelspec": {
   "display_name": "Python 3",
   "language": "python",
   "name": "python3"
  },
  "language_info": {
   "codemirror_mode": {
    "name": "ipython",
    "version": 3
   },
   "file_extension": ".py",
   "mimetype": "text/x-python",
   "name": "python",
   "nbconvert_exporter": "python",
   "pygments_lexer": "ipython3",
   "version": "3.6.13"
  }
 },
 "nbformat": 4,
 "nbformat_minor": 5
}
